{
 "cells": [
  {
   "cell_type": "code",
   "execution_count": 1,
   "id": "deaea8ea",
   "metadata": {},
   "outputs": [],
   "source": [
    "\n",
    "from reportlab.pdfgen import canvas as pdfcanvas"
   ]
  },
  {
   "cell_type": "code",
   "execution_count": null,
   "id": "2809465d",
   "metadata": {},
   "outputs": [],
   "source": [
    "pdf_canvas = pdfcanvas.Canvas(\"output.pdf\")\n",
    "pdf_canvas.drawInlineImage()"
   ]
  }
 ],
 "metadata": {
  "kernelspec": {
   "display_name": "Python 3 (ipykernel)",
   "language": "python",
   "name": "python3"
  },
  "language_info": {
   "codemirror_mode": {
    "name": "ipython",
    "version": 3
   },
   "file_extension": ".py",
   "mimetype": "text/x-python",
   "name": "python",
   "nbconvert_exporter": "python",
   "pygments_lexer": "ipython3",
   "version": "3.7.8"
  }
 },
 "nbformat": 4,
 "nbformat_minor": 5
}
